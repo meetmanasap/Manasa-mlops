{
 "cells": [
  {
   "cell_type": "code",
   "execution_count": 10,
   "metadata": {},
   "outputs": [],
   "source": [
    "import mlflow\n",
    "from urllib import request\n",
    "import shutil\n",
    "import pathlib"
   ]
  },
  {
   "cell_type": "markdown",
   "metadata": {},
   "source": [
    "#### **Required Variables**"
   ]
  },
  {
   "cell_type": "code",
   "execution_count": 11,
   "metadata": {},
   "outputs": [],
   "source": [
    "base_url = \"https://d37ci6vzurychx.cloudfront.net/trip-data/\"\n",
    "train_file = \"green_tripdata_2024-01.parquet\"\n",
    "validation_file = \"green_tripdata_2024-02.parquet\"\n",
    "test_file = \"green_tripdata_2024-03.parquet\"\n"
   ]
  },
  {
   "cell_type": "markdown",
   "metadata": {},
   "source": [
    "#### **Required Functions**"
   ]
  },
  {
   "cell_type": "code",
   "execution_count": 12,
   "metadata": {},
   "outputs": [],
   "source": [
    "def download_data(url,filename):\n",
    "  pathlib.Path(\"data\").mkdir(exist_ok=True)\n",
    "  with request.urlopen(f\"{base_url}{filename}\") as response:\n",
    "    with open(f\"data/{filename}\", 'wb') as out_file:\n",
    "      shutil.copyfileobj(response, out_file)"
   ]
  },
  {
   "cell_type": "markdown",
   "metadata": {},
   "source": [
    "#### **Download the Datasets**"
   ]
  },
  {
   "cell_type": "code",
   "execution_count": 13,
   "metadata": {},
   "outputs": [],
   "source": [
    "download_data(base_url,train_file)\n",
    "download_data(base_url,test_file)\n",
    "download_data(base_url,validation_file)"
   ]
  }
 ],
 "metadata": {
  "kernelspec": {
   "display_name": "mlzoomcamp",
   "language": "python",
   "name": "python3"
  },
  "language_info": {
   "codemirror_mode": {
    "name": "ipython",
    "version": 3
   },
   "file_extension": ".py",
   "mimetype": "text/x-python",
   "name": "python",
   "nbconvert_exporter": "python",
   "pygments_lexer": "ipython3",
   "version": "3.10.12"
  }
 },
 "nbformat": 4,
 "nbformat_minor": 2
}
